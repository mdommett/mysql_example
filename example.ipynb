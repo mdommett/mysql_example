{
 "cells": [
  {
   "cell_type": "markdown",
   "metadata": {
    "collapsed": true,
    "deletable": true,
    "editable": true
   },
   "source": [
    "# Getting to Grips with MySQL"
   ]
  },
  {
   "cell_type": "markdown",
   "metadata": {
    "deletable": true,
    "editable": true
   },
   "source": [
    "Here we use the MySQL database, specifically the \"energies\" table, populated using  bin/`fill_db.py`. We will do some basic analysis of the data using pandas and matplotlib"
   ]
  },
  {
   "cell_type": "code",
   "execution_count": 2,
   "metadata": {
    "collapsed": true,
    "deletable": true,
    "editable": true
   },
   "outputs": [],
   "source": [
    "%matplotlib inline\n",
    "import numpy as np\n",
    "import MySQLdb\n",
    "import pandas as pd\n",
    "import matplotlib.pyplot as plt"
   ]
  },
  {
   "cell_type": "markdown",
   "metadata": {
    "deletable": true,
    "editable": true
   },
   "source": [
    "# Create DF from SQL database"
   ]
  },
  {
   "cell_type": "code",
   "execution_count": 4,
   "metadata": {
    "collapsed": false,
    "deletable": true,
    "editable": true
   },
   "outputs": [],
   "source": [
    "db = MySQLdb.connect(host=\"localhost\",    # your host, usually localhost\n",
    "                     user=\"root\",         # your username\n",
    "                     passwd=\"XXX\",  # your password\n",
    "                     db=\"molecular_rotors\")        # name of the data base\n",
    "\n",
    "cur = db.cursor()\n",
    "table_name=\"energies\"\n"
   ]
  },
  {
   "cell_type": "markdown",
   "metadata": {
    "deletable": true,
    "editable": true
   },
   "source": [
    "The database has been read in, and we can now use the power of the pandas library to explore it. First, we must use \"cur\" instance to initialise a pandas dataframe"
   ]
  },
  {
   "cell_type": "code",
   "execution_count": 5,
   "metadata": {
    "collapsed": false,
    "deletable": true,
    "editable": true
   },
   "outputs": [],
   "source": [
    "cur.execute(\"SHOW columns FROM energies\")\n",
    "column_names=[column[0] for column in cur.fetchall()]\n",
    "cur.execute(\"SELECT * FROM energies\")\n",
    "rows=cur.fetchall()\n",
    "df=pd.DataFrame([[j for j in i]for i in rows],columns=column_names)"
   ]
  },
  {
   "cell_type": "code",
   "execution_count": 6,
   "metadata": {
    "collapsed": false,
    "deletable": true,
    "editable": true
   },
   "outputs": [
    {
     "data": {
      "text/html": [
       "<div>\n",
       "<table border=\"1\" class=\"dataframe\">\n",
       "  <thead>\n",
       "    <tr style=\"text-align: right;\">\n",
       "      <th></th>\n",
       "      <th>model</th>\n",
       "      <th>level_of_theory</th>\n",
       "      <th>FC_s0</th>\n",
       "      <th>FC_s1</th>\n",
       "      <th>FC_s2</th>\n",
       "      <th>FC_s3</th>\n",
       "      <th>FC_s4</th>\n",
       "      <th>FC_s5</th>\n",
       "      <th>FC_t1</th>\n",
       "      <th>FC_t2</th>\n",
       "      <th>...</th>\n",
       "      <th>s1min_s0</th>\n",
       "      <th>s1min_s1</th>\n",
       "      <th>s1min_t1</th>\n",
       "      <th>t1min_s0</th>\n",
       "      <th>t1min_s1</th>\n",
       "      <th>t1min_t1</th>\n",
       "      <th>CI_s0s1_s0</th>\n",
       "      <th>CI_s0s1_s1</th>\n",
       "      <th>CI_s0t1_s0</th>\n",
       "      <th>CI_s0t1_t1</th>\n",
       "    </tr>\n",
       "  </thead>\n",
       "  <tbody>\n",
       "    <tr>\n",
       "      <th>0</th>\n",
       "      <td>m1</td>\n",
       "      <td>DFT</td>\n",
       "      <td>-695.686744818</td>\n",
       "      <td>-695.503586195</td>\n",
       "      <td>-695.497721003</td>\n",
       "      <td>-695.494082820</td>\n",
       "      <td>-695.464525340</td>\n",
       "      <td>-695.461405322</td>\n",
       "      <td>-695.563017199</td>\n",
       "      <td>-695.543536383</td>\n",
       "      <td>...</td>\n",
       "      <td>-695.669782973</td>\n",
       "      <td>-695.522047022</td>\n",
       "      <td>-695.587280744</td>\n",
       "      <td>-695.661158174</td>\n",
       "      <td>-695.520639790</td>\n",
       "      <td>-695.588508438</td>\n",
       "      <td>None</td>\n",
       "      <td>None</td>\n",
       "      <td>-695.590631000</td>\n",
       "      <td>-695.590183000</td>\n",
       "    </tr>\n",
       "    <tr>\n",
       "      <th>1</th>\n",
       "      <td>m4</td>\n",
       "      <td>DFT</td>\n",
       "      <td>-577.752919551</td>\n",
       "      <td>-577.568544525</td>\n",
       "      <td>-577.562208942</td>\n",
       "      <td>-577.559864335</td>\n",
       "      <td>-577.529347698</td>\n",
       "      <td>-577.526789945</td>\n",
       "      <td>-577.628534119</td>\n",
       "      <td>-577.609655992</td>\n",
       "      <td>...</td>\n",
       "      <td>-577.735611575</td>\n",
       "      <td>-577.587118588</td>\n",
       "      <td>-577.652826376</td>\n",
       "      <td>-577.726965823</td>\n",
       "      <td>-577.585661003</td>\n",
       "      <td>-577.653992693</td>\n",
       "      <td>None</td>\n",
       "      <td>None</td>\n",
       "      <td>-577.654791000</td>\n",
       "      <td>-577.654332000</td>\n",
       "    </tr>\n",
       "    <tr>\n",
       "      <th>2</th>\n",
       "      <td>m1</td>\n",
       "      <td>cc2</td>\n",
       "      <td>-694.276141541</td>\n",
       "      <td>-694.104407541</td>\n",
       "      <td>-694.094355141</td>\n",
       "      <td>-694.090692741</td>\n",
       "      <td>-694.051684441</td>\n",
       "      <td>-694.044767241</td>\n",
       "      <td>-694.137791541</td>\n",
       "      <td>-694.116930241</td>\n",
       "      <td>...</td>\n",
       "      <td>-694.276161742</td>\n",
       "      <td>-694.124652942</td>\n",
       "      <td>-694.159156342</td>\n",
       "      <td>-694.258274290</td>\n",
       "      <td>-694.109426090</td>\n",
       "      <td>-694.159287790</td>\n",
       "      <td>None</td>\n",
       "      <td>None</td>\n",
       "      <td>-694.134038000</td>\n",
       "      <td>-694.133371000</td>\n",
       "    </tr>\n",
       "    <tr>\n",
       "      <th>3</th>\n",
       "      <td>m4</td>\n",
       "      <td>cc2</td>\n",
       "      <td>-576.618580593</td>\n",
       "      <td>-576.445150793</td>\n",
       "      <td>-576.436292493</td>\n",
       "      <td>-576.430316693</td>\n",
       "      <td>-576.392019893</td>\n",
       "      <td>-576.385996593</td>\n",
       "      <td>-576.479267293</td>\n",
       "      <td>-576.458505593</td>\n",
       "      <td>...</td>\n",
       "      <td>-576.609318089</td>\n",
       "      <td>-576.456442989</td>\n",
       "      <td>-576.491984389</td>\n",
       "      <td>-576.600475682</td>\n",
       "      <td>-576.450355482</td>\n",
       "      <td>-576.501003282</td>\n",
       "      <td>-576.439940449</td>\n",
       "      <td>-576.413864449</td>\n",
       "      <td>-576.473825728</td>\n",
       "      <td>-576.473187754</td>\n",
       "    </tr>\n",
       "  </tbody>\n",
       "</table>\n",
       "<p>4 rows × 21 columns</p>\n",
       "</div>"
      ],
      "text/plain": [
       "  model level_of_theory           FC_s0           FC_s1           FC_s2  \\\n",
       "0    m1             DFT  -695.686744818  -695.503586195  -695.497721003   \n",
       "1    m4             DFT  -577.752919551  -577.568544525  -577.562208942   \n",
       "2    m1             cc2  -694.276141541  -694.104407541  -694.094355141   \n",
       "3    m4             cc2  -576.618580593  -576.445150793  -576.436292493   \n",
       "\n",
       "            FC_s3           FC_s4           FC_s5           FC_t1  \\\n",
       "0  -695.494082820  -695.464525340  -695.461405322  -695.563017199   \n",
       "1  -577.559864335  -577.529347698  -577.526789945  -577.628534119   \n",
       "2  -694.090692741  -694.051684441  -694.044767241  -694.137791541   \n",
       "3  -576.430316693  -576.392019893  -576.385996593  -576.479267293   \n",
       "\n",
       "            FC_t2       ...              s1min_s0        s1min_s1  \\\n",
       "0  -695.543536383       ...        -695.669782973  -695.522047022   \n",
       "1  -577.609655992       ...        -577.735611575  -577.587118588   \n",
       "2  -694.116930241       ...        -694.276161742  -694.124652942   \n",
       "3  -576.458505593       ...        -576.609318089  -576.456442989   \n",
       "\n",
       "         s1min_t1        t1min_s0        t1min_s1        t1min_t1  \\\n",
       "0  -695.587280744  -695.661158174  -695.520639790  -695.588508438   \n",
       "1  -577.652826376  -577.726965823  -577.585661003  -577.653992693   \n",
       "2  -694.159156342  -694.258274290  -694.109426090  -694.159287790   \n",
       "3  -576.491984389  -576.600475682  -576.450355482  -576.501003282   \n",
       "\n",
       "       CI_s0s1_s0      CI_s0s1_s1      CI_s0t1_s0      CI_s0t1_t1  \n",
       "0            None            None  -695.590631000  -695.590183000  \n",
       "1            None            None  -577.654791000  -577.654332000  \n",
       "2            None            None  -694.134038000  -694.133371000  \n",
       "3  -576.439940449  -576.413864449  -576.473825728  -576.473187754  \n",
       "\n",
       "[4 rows x 21 columns]"
      ]
     },
     "execution_count": 6,
     "metadata": {},
     "output_type": "execute_result"
    }
   ],
   "source": [
    "df.head()"
   ]
  },
  {
   "cell_type": "code",
   "execution_count": 7,
   "metadata": {
    "collapsed": false,
    "deletable": true,
    "editable": true
   },
   "outputs": [
    {
     "data": {
      "text/html": [
       "<div>\n",
       "<table border=\"1\" class=\"dataframe\">\n",
       "  <thead>\n",
       "    <tr style=\"text-align: right;\">\n",
       "      <th></th>\n",
       "      <th>model</th>\n",
       "      <th>level_of_theory</th>\n",
       "      <th>FC_s0</th>\n",
       "      <th>FC_s1</th>\n",
       "      <th>FC_s2</th>\n",
       "      <th>FC_s3</th>\n",
       "      <th>FC_s4</th>\n",
       "      <th>FC_s5</th>\n",
       "      <th>FC_t1</th>\n",
       "      <th>FC_t2</th>\n",
       "      <th>...</th>\n",
       "      <th>s1min_s0</th>\n",
       "      <th>s1min_s1</th>\n",
       "      <th>s1min_t1</th>\n",
       "      <th>t1min_s0</th>\n",
       "      <th>t1min_s1</th>\n",
       "      <th>t1min_t1</th>\n",
       "      <th>CI_s0s1_s0</th>\n",
       "      <th>CI_s0s1_s1</th>\n",
       "      <th>CI_s0t1_s0</th>\n",
       "      <th>CI_s0t1_t1</th>\n",
       "    </tr>\n",
       "  </thead>\n",
       "  <tbody>\n",
       "    <tr>\n",
       "      <th>count</th>\n",
       "      <td>4</td>\n",
       "      <td>4</td>\n",
       "      <td>4</td>\n",
       "      <td>4</td>\n",
       "      <td>4</td>\n",
       "      <td>4</td>\n",
       "      <td>4</td>\n",
       "      <td>4</td>\n",
       "      <td>4</td>\n",
       "      <td>4</td>\n",
       "      <td>...</td>\n",
       "      <td>4</td>\n",
       "      <td>4</td>\n",
       "      <td>4</td>\n",
       "      <td>4</td>\n",
       "      <td>4</td>\n",
       "      <td>4</td>\n",
       "      <td>1</td>\n",
       "      <td>1</td>\n",
       "      <td>4</td>\n",
       "      <td>4</td>\n",
       "    </tr>\n",
       "    <tr>\n",
       "      <th>unique</th>\n",
       "      <td>2</td>\n",
       "      <td>2</td>\n",
       "      <td>4</td>\n",
       "      <td>4</td>\n",
       "      <td>4</td>\n",
       "      <td>4</td>\n",
       "      <td>4</td>\n",
       "      <td>4</td>\n",
       "      <td>4</td>\n",
       "      <td>4</td>\n",
       "      <td>...</td>\n",
       "      <td>4</td>\n",
       "      <td>4</td>\n",
       "      <td>4</td>\n",
       "      <td>4</td>\n",
       "      <td>4</td>\n",
       "      <td>4</td>\n",
       "      <td>1</td>\n",
       "      <td>1</td>\n",
       "      <td>4</td>\n",
       "      <td>4</td>\n",
       "    </tr>\n",
       "    <tr>\n",
       "      <th>top</th>\n",
       "      <td>m4</td>\n",
       "      <td>cc2</td>\n",
       "      <td>-695.686744818</td>\n",
       "      <td>-694.104407541</td>\n",
       "      <td>-694.094355141</td>\n",
       "      <td>-694.090692741</td>\n",
       "      <td>-576.392019893</td>\n",
       "      <td>-576.385996593</td>\n",
       "      <td>-695.563017199</td>\n",
       "      <td>-694.116930241</td>\n",
       "      <td>...</td>\n",
       "      <td>-577.735611575</td>\n",
       "      <td>-577.587118588</td>\n",
       "      <td>-576.491984389</td>\n",
       "      <td>-695.661158174</td>\n",
       "      <td>-576.450355482</td>\n",
       "      <td>-577.653992693</td>\n",
       "      <td>-576.439940449</td>\n",
       "      <td>-576.413864449</td>\n",
       "      <td>-577.654791000</td>\n",
       "      <td>-694.133371000</td>\n",
       "    </tr>\n",
       "    <tr>\n",
       "      <th>freq</th>\n",
       "      <td>2</td>\n",
       "      <td>2</td>\n",
       "      <td>1</td>\n",
       "      <td>1</td>\n",
       "      <td>1</td>\n",
       "      <td>1</td>\n",
       "      <td>1</td>\n",
       "      <td>1</td>\n",
       "      <td>1</td>\n",
       "      <td>1</td>\n",
       "      <td>...</td>\n",
       "      <td>1</td>\n",
       "      <td>1</td>\n",
       "      <td>1</td>\n",
       "      <td>1</td>\n",
       "      <td>1</td>\n",
       "      <td>1</td>\n",
       "      <td>1</td>\n",
       "      <td>1</td>\n",
       "      <td>1</td>\n",
       "      <td>1</td>\n",
       "    </tr>\n",
       "  </tbody>\n",
       "</table>\n",
       "<p>4 rows × 21 columns</p>\n",
       "</div>"
      ],
      "text/plain": [
       "       model level_of_theory           FC_s0           FC_s1           FC_s2  \\\n",
       "count      4               4               4               4               4   \n",
       "unique     2               2               4               4               4   \n",
       "top       m4             cc2  -695.686744818  -694.104407541  -694.094355141   \n",
       "freq       2               2               1               1               1   \n",
       "\n",
       "                 FC_s3           FC_s4           FC_s5           FC_t1  \\\n",
       "count                4               4               4               4   \n",
       "unique               4               4               4               4   \n",
       "top     -694.090692741  -576.392019893  -576.385996593  -695.563017199   \n",
       "freq                 1               1               1               1   \n",
       "\n",
       "                 FC_t2       ...              s1min_s0        s1min_s1  \\\n",
       "count                4       ...                     4               4   \n",
       "unique               4       ...                     4               4   \n",
       "top     -694.116930241       ...        -577.735611575  -577.587118588   \n",
       "freq                 1       ...                     1               1   \n",
       "\n",
       "              s1min_t1        t1min_s0        t1min_s1        t1min_t1  \\\n",
       "count                4               4               4               4   \n",
       "unique               4               4               4               4   \n",
       "top     -576.491984389  -695.661158174  -576.450355482  -577.653992693   \n",
       "freq                 1               1               1               1   \n",
       "\n",
       "            CI_s0s1_s0      CI_s0s1_s1      CI_s0t1_s0      CI_s0t1_t1  \n",
       "count                1               1               4               4  \n",
       "unique               1               1               4               4  \n",
       "top     -576.439940449  -576.413864449  -577.654791000  -694.133371000  \n",
       "freq                 1               1               1               1  \n",
       "\n",
       "[4 rows x 21 columns]"
      ]
     },
     "execution_count": 7,
     "metadata": {},
     "output_type": "execute_result"
    }
   ],
   "source": [
    "df.describe()"
   ]
  },
  {
   "cell_type": "markdown",
   "metadata": {
    "deletable": true,
    "editable": true
   },
   "source": [
    "The data has singlet and triplet energies at four key geometries: FC, s1min, t1min, and CI. Lets take a look at the resultant energy diagrams"
   ]
  },
  {
   "cell_type": "markdown",
   "metadata": {
    "deletable": true,
    "editable": true
   },
   "source": [
    "# VEs and Plots"
   ]
  },
  {
   "cell_type": "code",
   "execution_count": 9,
   "metadata": {
    "collapsed": false,
    "deletable": true,
    "editable": true
   },
   "outputs": [],
   "source": [
    "s0=[\"FC_s0\",\"s1min_s0\",\"t1min_s0\",\"CI_s0t1_s0\"]\n",
    "s1=[\"FC_s1\",\"s1min_s1\",\"t1min_s1\",\"CI_s0t1_t1\"]\n",
    "t1=[\"FC_t1\",\"s1min_t1\",\"t1min_t1\",\"CI_s0t1_t1\"]"
   ]
  },
  {
   "cell_type": "code",
   "execution_count": 11,
   "metadata": {
    "collapsed": false,
    "deletable": true,
    "editable": true
   },
   "outputs": [
    {
     "data": {
      "image/png": "[encoded data removed]",
      "text/plain": [
       "<matplotlib.figure.Figure at 0x107a47d90>"
      ]
     },
     "metadata": {},
     "output_type": "display_data"
    }
   ],
   "source": [
    "fig,axs=plt.subplots(ncols=2,nrows=2,figsize=(10,8))\n",
    "axs = axs.ravel()\n",
    "for i in range(len(df)):\n",
    "   \n",
    "    s0vals=[((float((j))-float(df.loc[i,s0[0]]))*27.2114) for j in df.loc[i,s0]]\n",
    "    x=range(len(s0vals))\n",
    "    axs[i].scatter(x,s0vals,marker=\"_\",s=200,label=\"s0\")\n",
    "    s1vals=[((float((j))-float(df.loc[i,s0[0]]))*27.2114) for j in df.loc[i,s1]]\n",
    "    axs[i].scatter(x,s1vals,marker=\"_\",s=200,label=\"s1\")\n",
    "    t1vals=[((float((j))-float(df.loc[i,s0[0]]))*27.2114) for j in df.loc[i,t1]]\n",
    "    axs[i].scatter(x,t1vals,marker=\"_\",s=200,label=\"t1\")\n",
    "    axs[i].set_xticks(x)\n",
    "    axs[i].set_xticklabels([\"FC\",\"S1 min\", \"T1 min\",\"S0/T1 CI\"],fontsize=12)\n",
    "    axs[i].set_title(str(df[\"model\"][i])+\"-\"+str(df[\"level_of_theory\"][i]),fontsize=14)\n",
    "    axs[i].legend()\n",
    "    axs[i].set_ylabel(\"Energy (eV)\",fontsize=12)"
   ]
  },
  {
   "cell_type": "markdown",
   "metadata": {
    "deletable": true,
    "editable": true
   },
   "source": [
    "I would like to add some more data values at the FC position on the x-axis. I am not interested in adding these to the df at this stage, so will just create lists and plot these separately"
   ]
  },
  {
   "cell_type": "code",
   "execution_count": 12,
   "metadata": {
    "collapsed": true,
    "deletable": true,
    "editable": true
   },
   "outputs": [],
   "source": [
    "m1_DFT_triplets=[3.3668,3.8969,4.1470,4.5922,4.6324]\n",
    "m1_DFT_singlets=[4.9840,5.1436,5.2426,6.0469,6.1318]\n",
    "m4_DFT_triplets=[3.3847,3.8984,4.1909,4.6038,4.6428]\n",
    "m4_DFT_singlets=[5.017,5.1895, 5.2533, 6.0837, 6.1533]\n",
    "m1_cc2_triplets=[3.76469,4.33236,4.45216]\n",
    "m1_cc2_singlets=[4.67312,4.94666,5.04632,6.10779,6.29602]\n",
    "m4_cc2_triplets=[ 3.79091,4.35586,4.48789]\n",
    "m4_cc2_singlets=[4.71926,4.96031,5.12292,6.16503,6.32893]"
   ]
  },
  {
   "cell_type": "code",
   "execution_count": 13,
   "metadata": {
    "collapsed": false,
    "deletable": true,
    "editable": true
   },
   "outputs": [
    {
     "data": {
      "image/png": "[encoded data removed]",
      "text/plain": [
       "<matplotlib.figure.Figure at 0x107b9e210>"
      ]
     },
     "metadata": {},
     "output_type": "display_data"
    }
   ],
   "source": [
    "fig,axs=plt.subplots(ncols=2,nrows=2,figsize=(10,8))\n",
    "axs = axs.ravel()\n",
    "for i in range(len(df)):\n",
    "   \n",
    "    s0vals=[((float((j))-float(df.loc[i,s0[0]]))*27.2114) for j in df.loc[i,s0]]\n",
    "    x=range(len(s0vals))\n",
    "    axs[i].scatter(x,s0vals,marker=\"_\",s=200,label=\"s0\")\n",
    "    s1vals=[((float((j))-float(df.loc[i,s0[0]]))*27.2114) for j in df.loc[i,s1]]\n",
    "    axs[i].scatter(x,s1vals,marker=\"_\",s=200,label=\"s1\")\n",
    "    t1vals=[((float((j))-float(df.loc[i,s0[0]]))*27.2114) for j in df.loc[i,t1]]\n",
    "    axs[i].scatter(x,t1vals,marker=\"_\",s=200,label=\"t1\")\n",
    "    axs[i].set_xticks(x)\n",
    "    axs[i].set_xticklabels([\"FC\",\"S1 min\", \"T1 min\",\"S0/T1 CI\"],fontsize=12)\n",
    "    axs[i].set_title(str(df[\"model\"][i])+\"-\"+str(df[\"level_of_theory\"][i]),fontsize=14)\n",
    "    axs[i].legend()\n",
    "for y in m1_DFT_triplets:\n",
    "    axs[0].scatter(0,y,marker=\"x\",c='g',s=10)\n",
    "for y in m1_DFT_singlets:\n",
    "    axs[0].scatter(0,y,marker=\"o\",c='orange',s=10)\n",
    "\n",
    "for y in m4_DFT_triplets:\n",
    "    axs[1].scatter(0,y,marker=\"x\",c='g',s=10)\n",
    "for y in m4_DFT_singlets:\n",
    "    axs[1].scatter(0,y,marker=\"o\",c='orange',s=10)\n",
    "    \n",
    "for y in m4_DFT_triplets:\n",
    "    axs[1].scatter(0,y,marker=\"x\",c='g',s=10)\n",
    "for y in m4_DFT_singlets:\n",
    "    axs[1].scatter(0,y,marker=\"o\",c='orange',s=10)\n",
    "    \n",
    "for y in m1_cc2_triplets:\n",
    "    axs[2].scatter(0,y,marker=\"x\",c='g',s=10)\n",
    "for y in m1_cc2_singlets:\n",
    "    axs[2].scatter(0,y,marker=\"o\",c='orange',s=10)\n",
    "    \n",
    "for y in m4_cc2_triplets:\n",
    "    axs[3].scatter(0,y,marker=\"x\",c='g',s=10)\n",
    "for y in m4_cc2_singlets:\n",
    "    axs[3].scatter(0,y,marker=\"o\",c='orange',s=10)\n"
   ]
  },
  {
   "cell_type": "markdown",
   "metadata": {
    "collapsed": true,
    "deletable": true,
    "editable": true
   },
   "source": [
    "There we go. A plot for each of my models, showing the mechanism of excited state relaxation in triplet and singlet states. The key to this example is not what is shown on the data, but the process used to extract, store, and analyze.\n",
    "\n",
    "If you made it this far, thank you.\n",
    "\n",
    "md"
   ]
  }
 ],
 "metadata": {
  "kernelspec": {
   "display_name": "Python 2",
   "language": "python",
   "name": "python2"
  },
  "language_info": {
   "codemirror_mode": {
    "name": "ipython",
    "version": 2
   },
   "file_extension": ".py",
   "mimetype": "text/x-python",
   "name": "python",
   "nbconvert_exporter": "python",
   "pygments_lexer": "ipython2",
   "version": "2.7.12"
  }
 },
 "nbformat": 4,
 "nbformat_minor": 2
}
